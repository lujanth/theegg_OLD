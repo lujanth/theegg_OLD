{
 "cells": [
  {
   "cell_type": "markdown",
   "metadata": {},
   "source": [
    "Funcion para comprobar que los datos de entrada son correctos"
   ]
  },
  {
   "cell_type": "code",
   "execution_count": 163,
   "metadata": {},
   "outputs": [],
   "source": [
    "def comprobarDatos(P_vida, J_vida, P_ataque, J_ataque, turno):\n",
    "    vbleComprobarDatos = True\n",
    "    mensajeComprobarDatos=\"\"\n",
    "    if isinstance(P_vida, str) or ( not isinstance(P_vida, int) and not isinstance(P_vida, float)):\n",
    "        vbleComprobarDatos = False\n",
    "        mensajeComprobarDatos=\"La vida de Pikachu debe ser un numero\"\n",
    "        return vbleComprobarDatos, mensajeComprobarDatos\n",
    "    if isinstance(J_vida, str) or ( not isinstance(J_vida, int) and not isinstance(J_vida, float)):\n",
    "        vbleComprobarDatos = False\n",
    "        mensajeComprobarDatos=\"La vida de Jiggly debe ser un numero\"\n",
    "        return vbleComprobarDatos, mensajeComprobarDatos\n",
    "    if isinstance(P_ataque, str) or ( not isinstance(P_ataque, int) and not isinstance(P_ataque, float)):\n",
    "        vbleComprobarDatos = False\n",
    "        mensajeComprobarDatos=\"La fuerza de ataque de Pikachu debe ser un numero\"\n",
    "        return vbleComprobarDatos, mensajeComprobarDatos\n",
    "    if isinstance(J_ataque, str) or ( not isinstance(J_ataque, int) and not isinstance(J_ataque, float)):\n",
    "        vbleComprobarDatos = False\n",
    "        mensajeComprobarDatos=\"La fuerza de ataque Jiggly debe ser un numero\"\n",
    "        return vbleComprobarDatos, mensajeComprobarDatos\n",
    "    if not isinstance(turno, str) or (turno.upper() != \"P\" and turno.upper() != \"J\"):\n",
    "        vbleComprobarDatos = False\n",
    "        mensajeComprobarDatos=\"El turno debe ser P o J\"\n",
    "        return vbleComprobarDatos, mensajeComprobarDatos\n",
    "\n",
    "    return vbleComprobarDatos, mensajeComprobarDatos"
   ]
  },
  {
   "cell_type": "markdown",
   "metadata": {},
   "source": [
    "Funcion para jugar a Pokemons"
   ]
  },
  {
   "cell_type": "code",
   "execution_count": 164,
   "metadata": {},
   "outputs": [],
   "source": [
    "def jugarPokemons(P_vida, J_vida, P_ataque, J_ataque, turno):\n",
    "    vbleFinJuego = False\n",
    "    mensajeJuego=\" ha ganado\"\n",
    "    \n",
    "    # Mientras algun de los dos tenga vida, jugamos\n",
    "    while (P_vida > 0 and J_vida >0):\n",
    "        if (turno.upper() == \"P\"):\n",
    "            J_vida = J_vida - P_ataque\n",
    "            turno=\"J\"\n",
    "        else:\n",
    "            P_vida = P_vida - J_ataque\n",
    "            turno=\"P\"\n",
    "    \n",
    "    # Alguno de los dos ha perdido la vida. Comprobamos quien esta vivo y generamos el mensaje con el nombre del ganador\n",
    "    if P_vida > J_vida:\n",
    "        ganador = \"Pikachu\"\n",
    "    else:\n",
    "        ganador = \"Jiggly\"\n",
    "        \n",
    "    mensajeJuego = ganador + mensajeJuego\n",
    "    return mensajeJuego\n",
    "    "
   ]
  },
  {
   "cell_type": "markdown",
   "metadata": {},
   "source": [
    "# Inicio del Juego de Pikachu\n",
    "\n",
    "Este es el incicio del algoritmo, debes introducir los siguientes datos:\n",
    "* P_vida => Es la vida de Pikachu, debe ser un numero\n",
    "* J_vida => Es la vida de Jiggly, debe ser un numero\n",
    "* P_ataque => Es la fuerza de ataque de Pikachu, debe ser un numero\n",
    "* J_ataque => Es la fuerza de ataque de Jiggly, debe ser un numero\n",
    "* turno => \"P\" o \"J\", solo puede ser una de estas dos letras\n",
    "\n",
    "\n",
    "El algoritmo mostrará al final un mensaje, este puede ser:\n",
    "* Indicando que los datos de entrada no son correctos o\n",
    "* Indicando quien ha sido el ganador\n"
   ]
  },
  {
   "cell_type": "code",
   "execution_count": 165,
   "metadata": {},
   "outputs": [
    {
     "name": "stdout",
     "output_type": "stream",
     "text": [
      "Pikachu ha ganado\n"
     ]
    }
   ],
   "source": [
    "P_vida=100.58\n",
    "J_vida=100.25\n",
    "P_ataque =5.12\n",
    "J_ataque = 5\n",
    "turno = \"P\"\n",
    "\n",
    "# Inicializamos la variable mensaje que mostraremos al final\n",
    "mensaje = \"\"\n",
    "# Llamamos a la funcion de que comprobara, si los datos de entrada son correctos\n",
    "vbleComprobarDatos, mensaje = comprobarDatos(P_vida, J_vida, P_ataque, J_ataque, turno)\n",
    "# Si los datos de entrada son correctos, llamamos a la funcion para jugar a Pokemons\n",
    "if (vbleComprobarDatos):\n",
    "    mensaje = jugarPokemons(P_vida, J_vida, P_ataque, J_ataque, turno)\n",
    "# Por ultimo mostramos el mensaje que corresponda\n",
    "print(mensaje)"
   ]
  }
 ],
 "metadata": {
  "kernelspec": {
   "display_name": "Python 3",
   "language": "python",
   "name": "python3"
  },
  "language_info": {
   "codemirror_mode": {
    "name": "ipython",
    "version": 3
   },
   "file_extension": ".py",
   "mimetype": "text/x-python",
   "name": "python",
   "nbconvert_exporter": "python",
   "pygments_lexer": "ipython3",
   "version": "3.7.6"
  }
 },
 "nbformat": 4,
 "nbformat_minor": 4
}
