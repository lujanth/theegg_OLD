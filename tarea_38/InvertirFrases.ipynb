{
 "cells": [
  {
   "cell_type": "markdown",
   "metadata": {},
   "source": [
    "# Función para invertir las palabras de una frase\n",
    "\n",
    "Recibe como argumento de entrada la frase a invertir\n",
    "\n",
    "Devuelve como resultado la frase invertida\n",
    "\n",
    "* En la función, he utilizado los metodos split() y reverse() ya definidos en Python para variables tipo string, y que simplifican el código lo que resulta mas limpio. \n",
    "* En el diagrama de flujo he tratado de representar como trabajarían ambas funciones, haciendo uso de bucles y variables temporales"
   ]
  },
  {
   "cell_type": "code",
   "execution_count": 56,
   "metadata": {},
   "outputs": [],
   "source": [
    "def invertirFrase(frase):\n",
    "    palabras = frase.split()\n",
    "    palabras.reverse()\n",
    "    \n",
    "    fraseFinal=''\n",
    "    for x in range(0, len(palabras)):\n",
    "        fraseFinal = fraseFinal + palabras[x] + \" \"\n",
    "    \n",
    "    return fraseFinal\n"
   ]
  },
  {
   "cell_type": "markdown",
   "metadata": {},
   "source": [
    "# Inicio del algoritmo para invertir frases\n",
    "\n",
    "* 1º pide el numero de frases que desean invertir\n",
    "* 2º Comprueba que es un numero entero, si no lo es te avisa del tipo de dato que espera y fin\n",
    "* 3º Si es un nº correcto, te va pidiendo tantas frases como hayas indicado\n",
    "* 4º Invierte cada una de las frases y te muestra el resultado en pantalla"
   ]
  },
  {
   "cell_type": "code",
   "execution_count": 57,
   "metadata": {},
   "outputs": [
    {
     "name": "stdout",
     "output_type": "stream",
     "text": [
      "Indica el numero de frases a invertir: 3\n",
      "Introduce la frase nº 0: this is a test\n",
      "Introduce la frase nº 1: foobar\n",
      "Introduce la frase nº 2: all your base\n",
      "\n",
      "Tu/s frase/s invertida/s :\n",
      "Case #0: test a is this \n",
      "Case #1: foobar \n",
      "Case #2: base your all \n"
     ]
    }
   ],
   "source": [
    "numFrases = input(\"Indica el numero de frases a invertir: \")\n",
    "if numFrases.isdigit():\n",
    "    listadoFrases = []\n",
    "    for x in range(0, int(numFrases)):\n",
    "        listadoFrases.append(input(\"Introduce la frase nº \" + str(x) + \": \"))\n",
    "    print(\"\")\n",
    "    print(\"Tu/s frase/s invertida/s :\")\n",
    "    for x in range(0, int(numFrases)):\n",
    "        print(\"Case #\" + str(x) + \": \"+ str(invertirFrase(listadoFrases[x])))\n",
    "else:\n",
    "    print(\"El nº de frases debe ser un nº entero\")"
   ]
  }
 ],
 "metadata": {
  "kernelspec": {
   "display_name": "Python 3",
   "language": "python",
   "name": "python3"
  },
  "language_info": {
   "codemirror_mode": {
    "name": "ipython",
    "version": 3
   },
   "file_extension": ".py",
   "mimetype": "text/x-python",
   "name": "python",
   "nbconvert_exporter": "python",
   "pygments_lexer": "ipython3",
   "version": "3.7.6"
  }
 },
 "nbformat": 4,
 "nbformat_minor": 4
}
