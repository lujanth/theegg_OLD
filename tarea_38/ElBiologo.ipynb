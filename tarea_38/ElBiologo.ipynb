{
 "cells": [
  {
   "cell_type": "code",
   "execution_count": 20,
   "metadata": {},
   "outputs": [],
   "source": [
    "import numpy as np"
   ]
  },
  {
   "cell_type": "markdown",
   "metadata": {},
   "source": [
    "# Función para generar una matriz de comparación\n",
    "\n",
    "Como parametros de entrada recibe los 2 ADNs dados\n",
    "\n",
    "Devuelve como salida una matriz resultado, esta matriz contiene las PARTES COMUNES encontradas en la comparacion letra a letra de ambos ADNs dados"
   ]
  },
  {
   "cell_type": "code",
   "execution_count": 21,
   "metadata": {},
   "outputs": [],
   "source": [
    "def generarMatrizComparacion(adn1, adn2):\n",
    "    \n",
    "    matrizRdo = np.empty((len(adn1), len(adn2)),dtype='str')\n",
    "\n",
    "    for x in range(0, len(adn1)):\n",
    "        linea =x\n",
    "        contador =0\n",
    "        for y in range(0, len(adn2)):\n",
    "            if adn1[x] == adn2[y]:\n",
    "                matrizRdo[linea,y] = adn1[x]\n",
    "                if x < len(adn1)-1:\n",
    "                    contador += 1 \n",
    "                    x=x+1\n",
    "                    linea = x-contador\n",
    "                else:\n",
    "                    break\n",
    "\n",
    "    return matrizRdo"
   ]
  },
  {
   "cell_type": "markdown",
   "metadata": {},
   "source": [
    "# Función para encontrar la mayor base adyacente común\n",
    "\n",
    "Como parametros de entrada recibe la matriz de comparacion de los ADNs de entrada\n",
    "\n",
    "Devuelve como salida un texto que contiene la mayor base común encontrada en la matriz"
   ]
  },
  {
   "cell_type": "code",
   "execution_count": 22,
   "metadata": {},
   "outputs": [],
   "source": [
    "def mayorBaseAdyacente(matrizRdo):\n",
    "    baseAdyacente=''\n",
    "    baseAdyacenteTemp=''\n",
    "    for x in range(matrizRdo.shape[0]):\n",
    "        if len(baseAdyacente) < len(baseAdyacenteTemp):\n",
    "            baseAdyacente = baseAdyacenteTemp\n",
    "        baseAdyacenteTemp=''\n",
    "        for y in range(matrizRdo.shape[1]):\n",
    "            if matrizRdo[x,y] != '':\n",
    "                baseAdyacenteTemp= baseAdyacenteTemp + matrizRdo[x,y]\n",
    "            else:\n",
    "                if len(baseAdyacente) < len(baseAdyacenteTemp):\n",
    "                    baseAdyacente = baseAdyacenteTemp\n",
    "                baseAdyacenteTemp=''\n",
    "\n",
    "    return baseAdyacente"
   ]
  },
  {
   "cell_type": "markdown",
   "metadata": {},
   "source": [
    "# Función para validar los datos de entrada\n",
    "\n",
    "Como parametros de entrada recibe los 2 ADNs dados\n",
    "\n",
    "Devuelve como salida dos parametros:\n",
    "* vbleComprobarDatos => boolena que indica si la comporbacion a ido bien o no, para poder continuar con el algortimo\n",
    "* mensajeComprobarDatos => Texto, vacio si todo a ido bien o con el mensaje de error caso de que algun parámetro de entrada no sea correcto"
   ]
  },
  {
   "cell_type": "code",
   "execution_count": 23,
   "metadata": {},
   "outputs": [],
   "source": [
    "def comprobarDatos(adn1, adn2):\n",
    "    vbleComprobarDatos = True\n",
    "    mensajeComprobarDatos=\"\"\n",
    "    if not(isinstance(adn1, str)):\n",
    "        vbleComprobarDatos = False\n",
    "        mensajeComprobarDatos=\"El valor de entrada del adn1 debe ser un string\"\n",
    "    elif not(isinstance(adn2, str)):\n",
    "        vbleComprobarDatos = False\n",
    "        mensajeComprobarDatos=\"El valor de entrada del adn2 debe ser un string\"\n",
    "        \n",
    "    return vbleComprobarDatos, mensajeComprobarDatos"
   ]
  },
  {
   "cell_type": "markdown",
   "metadata": {},
   "source": [
    "# Función que encuentra la mayor base común de 2 ADNs dados\n",
    "\n",
    "Como parametros de entrada recibe los 2 ADNs validados como texto:\n",
    "* adn1 \n",
    "* adn2 \n",
    "\n",
    "Devuelve como salida un mensaje indicando la mayor base comun encontrada"
   ]
  },
  {
   "cell_type": "code",
   "execution_count": 24,
   "metadata": {},
   "outputs": [],
   "source": [
    "def encontrarMayorBaseComun(adn1, adn2):\n",
    "    matrizComparacion = generarMatrizComparacion(adn1, adn2)\n",
    "    baseAdyacente = mayorBaseAdyacente(matrizComparacion)\n",
    "    if len(baseAdyacente)> 0:\n",
    "        mensaje = 'La mayor base adyacente encontrada es ' + baseAdyacente\n",
    "    else:\n",
    "        mensaje = 'No se ha encontrado ninguna base adyacente'\n",
    "    \n",
    "    return mensaje"
   ]
  },
  {
   "cell_type": "markdown",
   "metadata": {},
   "source": [
    "# Inicio algoritmo para encontrar la mayor base común de 2 ADNs dados\n",
    "\n",
    "Este es el incicio del algoritmo, solo debes introducir los 2 ADNs que quieres comparar:\n",
    "* adn1 => Debe ser un texto\n",
    "* adn2 => Debe ser un texto\n",
    "\n",
    "El algoritmo mostrará al final un mensaje, este puede ser:\n",
    "* Indicando que los datos de entrada no son correctos o\n",
    "* Indicando cual es la mayor base común adyacente encontrada entre ambos ADNs\n",
    "\n",
    "He considerado que toda diferencia importa, por lo que he hecho el algoritmo case sensitive, es decir, diferencia entre \n",
    "mayúsculas y minúsculas"
   ]
  },
  {
   "cell_type": "code",
   "execution_count": 25,
   "metadata": {},
   "outputs": [
    {
     "name": "stdout",
     "output_type": "stream",
     "text": [
      "La mayor base adyacente encontrada es gtaccagtactgatagtctgggccttgaggaaaactg\n"
     ]
    }
   ],
   "source": [
    "# INDICA AQUI TUS VALORES DE ENTRADA\n",
    "adn1='ctgggccttgaggaaaactggtaccagtactgatagtctgggccttgaggaaaactg'\n",
    "adn2='gtaccagtactgatagtctgggccttgaggaaaactggtaccagtactgatagt'\n",
    "#adn2='PAPAPA'\n",
    "\n",
    "# Otros pares ejemplos de adn\n",
    "#adn1='ctgactga'\n",
    "#adn2='actgagc'\n",
    "\n",
    "#adn1= 'cgtaattgcgat'\n",
    "#adn2='cgtacagtagc'\n",
    "\n",
    "#adn1='ctgggccttgaggaaaactg'\n",
    "#adn2='gtaccagtactgatagt'\n",
    "\n",
    "#adn1='ctgggccttgaggaaaactggtaccagtactgatagtctgggccttgaggaaaactg'\n",
    "#adn2='GTAccagtactgatagtctgggccttgaggaaaactggtaccagtactgatagt'\n",
    "\n",
    "\n",
    "# Llamamos a la funcion de que comprobara, si los datos de entrada son correctos\n",
    "vbleComprobarDatos, mensaje = comprobarDatos(adn1, adn2)\n",
    "if vbleComprobarDatos:\n",
    "        mensaje = encontrarMayorBaseComun(adn1, adn2)\n",
    "\n",
    "# Por ultimo mostramos el mensaje que corresponda\n",
    "print(mensaje)        "
   ]
  }
 ],
 "metadata": {
  "kernelspec": {
   "display_name": "Python 3",
   "language": "python",
   "name": "python3"
  },
  "language_info": {
   "codemirror_mode": {
    "name": "ipython",
    "version": 3
   },
   "file_extension": ".py",
   "mimetype": "text/x-python",
   "name": "python",
   "nbconvert_exporter": "python",
   "pygments_lexer": "ipython3",
   "version": "3.7.6"
  }
 },
 "nbformat": 4,
 "nbformat_minor": 4
}
