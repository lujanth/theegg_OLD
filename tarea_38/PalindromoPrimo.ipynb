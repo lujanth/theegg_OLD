{
 "cells": [
  {
   "cell_type": "markdown",
   "metadata": {},
   "source": [
    "# Funcion para generar una lista de posibles numeros primos y palindromos\n",
    "\n",
    "Esta función generar una lista de numeros que podrían ser primos y palindromos.\n",
    "Como argumento de entrada recibe:\n",
    "    * base => corresponde con N, que es el numero de entrada dado por el usuario\n",
    "    \n",
    "Devuelve una lista con numeros que podrían ser (no significa que todos ellos lo sean) primos y palidrondromos\n",
    "\n",
    "La lista se genera por fases:\n",
    "\n",
    "1ª Fase:\n",
    "* El primer valor de la lista es: \n",
    "    base => si base es impar o\n",
    "    base + 1 => Si base es par (un par no puede ser primo con lo que se descarta el propio numero de entrada)\n",
    "* El último valor de la lista es:\n",
    "    tope => 1003010, dado que sabemos que el mayor valos posible para N es 1.000.000 y que la solucion para este es 1003001,\n",
    "* Creciendo de 2 en 2, con lo que hemos descartado de la lista y por lo tanto de las posibles soluciones los numeros pares que como tales y a excepcion del 2, no son primos\n",
    "\n",
    "2ª Fase:\n",
    "* Se descartan todos los numeros cuyo nº de cifras no sea impar, dado que un numero que sea primo y palidromo, tiene un nº impar de cifras\n",
    "    https://www.rcnradio.com/opinion/el-numero-primo-de-belfegor\n",
    "    \n",
    "  "
   ]
  },
  {
   "cell_type": "code",
   "execution_count": 158,
   "metadata": {},
   "outputs": [],
   "source": [
    "def listaPosiblesPrimosPalidromos(base):\n",
    "    # Valor maximo de la lista\n",
    "    tope = 1003010\n",
    "\n",
    "    # Cualquier numero par a excepcion del 2 no es primo, asi que si N es un numero par, debemos buscar a partir de N+1\n",
    "    if base % 2 ==0:\n",
    "        base = base +1\n",
    "    \n",
    "    # Generamos la 1º version de la lista con todos lo nºs impares a partir del numero dado N(base)\n",
    "    lista = list(range(base, tope, 2))\n",
    "    \n",
    "    # Para ser nº primo y palindromo debe ser un numero con cifras impares 1,3,5,7, asi que descartamos de la lista\n",
    "    # aquellos numeros que no tengan un nº impar de cifras\n",
    "    for i in range(len(lista)-1, -1, -1): \n",
    "        if 10 == lista[i]:\n",
    "            lista.pop(i)\n",
    "        elif 12 <= lista[i] <= 99:\n",
    "            lista.pop(i)            \n",
    "        elif 1000<= lista[i] <= 9999:\n",
    "            lista.pop(i)\n",
    "        elif 100000<= lista[i] <= 999999:\n",
    "            lista.pop(i)\n",
    "    \n",
    "    return lista"
   ]
  },
  {
   "cell_type": "markdown",
   "metadata": {},
   "source": [
    "# Funcion para descartar de una lista de numeros, aquellos que no sean palidromos\n",
    "\n",
    "Funcion que recibe como parametro de entrada:\n",
    "* Una lista de números\n",
    "\n",
    "Devuelve como salida:\n",
    "* Una nueva lista en la que solo se incluyen los numeros que sean palindromos de la recibida como parametro de entrada\n"
   ]
  },
  {
   "cell_type": "code",
   "execution_count": 159,
   "metadata": {},
   "outputs": [],
   "source": [
    "def filtrarListaPalidromos(listaPosPrimosPal):\n",
    "    listaPalindromos = []\n",
    "    for x in range(0, len(listaPosPrimosPal)):\n",
    "        texto = list(str(listaPosPrimosPal[x]))\n",
    "        textoInvertido = texto.copy()\n",
    "        textoInvertido.reverse()\n",
    "        if texto == textoInvertido:\n",
    "            listaPalindromos.append(listaPosPrimosPal[x])\n",
    "    return listaPalindromos"
   ]
  },
  {
   "cell_type": "markdown",
   "metadata": {},
   "source": [
    "## Funcion que comprueba si un nº dado es primo o no"
   ]
  },
  {
   "cell_type": "code",
   "execution_count": 160,
   "metadata": {},
   "outputs": [],
   "source": [
    "def esNumeroPrimo(numEntrada):\n",
    "    # Un nº es primo cuando solo se puede dividir por 1 y por si mismo\n",
    "    # Generamos un alista con todos los numeros desde 3 hasta N-1, para realizar la comprobacion de si N es primo o no\n",
    "    listaComprobaciones = list(range(3, numEntrada, 2))\n",
    "    esPrimo = True\n",
    "    for x in listaComprobaciones:\n",
    "        if numEntrada % x == 0 :\n",
    "            esPrimo = False\n",
    "            return esPrimo\n",
    "    if esPrimo:\n",
    "        return esPrimo"
   ]
  },
  {
   "cell_type": "markdown",
   "metadata": {},
   "source": [
    "# Función para comprobar si el dato de entrada al algoritmo cumple los parametros del algoritmo:\n",
    "\n",
    "* N, numero entero con valor valido entre 1 y 1.000.000"
   ]
  },
  {
   "cell_type": "code",
   "execution_count": 161,
   "metadata": {},
   "outputs": [],
   "source": [
    "def comprobarDatos(numEntrada):\n",
    "    vbleComprobarDatos = True\n",
    "    mensajeComprobarDatos=\"\"\n",
    "    if isinstance(numEntrada, str) or ( not isinstance(numEntrada, int)):\n",
    "        vbleComprobarDatos = False\n",
    "        mensajeComprobarDatos=\"El valor de entrada debe ser un numero entero\"\n",
    "    elif numEntrada < 1 or numEntrada > 1000000:\n",
    "        vbleComprobarDatos = False\n",
    "        mensajeComprobarDatos=\"El valor de entrada debe ser un numero entero, entre 1 y 1.000.000\"\n",
    "        \n",
    "    return vbleComprobarDatos, mensajeComprobarDatos"
   ]
  },
  {
   "cell_type": "markdown",
   "metadata": {},
   "source": [
    "# Función que dado una numero de entrada, devuelve un nº mayor que o igual a N y que sea palíndromo y primo ."
   ]
  },
  {
   "cell_type": "code",
   "execution_count": 162,
   "metadata": {},
   "outputs": [],
   "source": [
    "def calcularNumPrimoPalindromo(numEntrada):\n",
    "\n",
    "    # Aqui calculamos la posible lista de num con posibilidades de ser primos y palidromos\n",
    "    mensaje =\"\"\n",
    "\n",
    "    # Generamos una lista de posibles numeros primos y palindromos con la que trabajaremos para obtener nuestro resultado\n",
    "    listaPrimosPal = listaPosiblesPrimosPalidromos(numEntrada)\n",
    "\n",
    "    # Filtramos de esta lista solo los palindromos reales \n",
    "    listaPalidromos = filtrarListaPalidromos(listaPrimosPal)\n",
    "\n",
    "    # Recorremos la lista hasta encontrar el primer palidromo primo que nos de respuesta, para el numero dado\n",
    "    for item in listaPalidromos:\n",
    "        if esNumeroPrimo(item):\n",
    "            mensaje = \"Para N = \" +str(numEntrada) + \", la solucion es M = \" + str(item)\n",
    "            break\n",
    "    return mensaje\n",
    "\n"
   ]
  },
  {
   "cell_type": "markdown",
   "metadata": {},
   "source": [
    "# Inicio algoritmo para calcular un nº primo y palindromo\n",
    "\n",
    "Este es el incicio del algoritmo, solo debes introducir el numero N:\n",
    "* numEntrada => Debe ser un numero entero entre 1 y 1.000.000\n",
    "\n",
    "El algoritmo mostrará al final un mensaje, este puede ser:\n",
    "* Indicando que el dato de entrada no es correcto o\n",
    "* Indicando que número primo y palindromo que corresponde al nº dado"
   ]
  },
  {
   "cell_type": "code",
   "execution_count": 163,
   "metadata": {},
   "outputs": [
    {
     "name": "stdout",
     "output_type": "stream",
     "text": [
      "Para N = 1000000, la solucion es M = 1003001\n"
     ]
    }
   ],
   "source": [
    "\"\"\" Juegos de posibles valores de entrada\n",
    "numEntrada = 934567 => La solucion es M = 1003001\n",
    "numEntrada = 456789 => La solucion es M = 1003001\n",
    "numEntrada = 234562 => La solucion es M = 1003001\n",
    "numEntrada = 102345 => La solucion es M = 1003001\n",
    "numEntrada = 14059 => La solucion es M = 14341\n",
    "numEntrada = 10469 => La solucion es M = 10501\n",
    "numEntrada = 10301  => La solucion es M = 10301\n",
    "numEntrada = 2123 => La solucion es M = 10301\n",
    "numEntrada = 179 => La solucion es M = 181\n",
    "numEntrada = 31 => La solucion es M = 101\n",
    "numEntrada = 11 => La solucion es M = 11\n",
    "numEntrada = 7 => La solucion es M = 7\n",
    "numEntrada = 6 => La solucion es M = 7\n",
    "numEntrada = 2 => La solucion es M = 2\n",
    "\"\"\"\n",
    "# INDICA AQUI el VALOR de N\n",
    "numEntrada = 1000000\n",
    "\n",
    "mensaje = \"\"\n",
    "\n",
    "# Por si quieres medir los tiempos\n",
    "# import time\n",
    "# t_entrada = time.time()\n",
    "\n",
    "# Llamamos a la funcion de que comprobara, si los datos de entrada son correctos\n",
    "vbleComprobarDatos, mensaje = comprobarDatos(numEntrada)\n",
    "if vbleComprobarDatos:\n",
    "    if numEntrada == 2:\n",
    "        mensaje = \"Para N = 2, la solucion es M = 2\"\n",
    "    else:\n",
    "        mensaje = calcularNumPrimoPalindromo(numEntrada)\n",
    "\n",
    "# t_fin = time.time() - t_entrada\n",
    "# print(t_fin)        \n",
    "\n",
    "# Por ultimo mostramos el mensaje que corresponda\n",
    "print(mensaje)    \n"
   ]
  }
 ],
 "metadata": {
  "kernelspec": {
   "display_name": "Python 3",
   "language": "python",
   "name": "python3"
  },
  "language_info": {
   "codemirror_mode": {
    "name": "ipython",
    "version": 3
   },
   "file_extension": ".py",
   "mimetype": "text/x-python",
   "name": "python",
   "nbconvert_exporter": "python",
   "pygments_lexer": "ipython3",
   "version": "3.7.6"
  }
 },
 "nbformat": 4,
 "nbformat_minor": 4
}
