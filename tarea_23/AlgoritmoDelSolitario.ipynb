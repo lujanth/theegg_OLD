{
 "cells": [
  {
   "cell_type": "code",
   "execution_count": 274,
   "metadata": {},
   "outputs": [],
   "source": [
    "import random\n",
    "import string\n",
    "    "
   ]
  },
  {
   "cell_type": "markdown",
   "metadata": {},
   "source": [
    "DEFINIMOS la funcion que traduce de **texto** a **numeros**\n",
    "\n",
    "_NOTA_ => Se traduce siempre el texto de entrada a mayusculas\n"
   ]
  },
  {
   "cell_type": "code",
   "execution_count": 275,
   "metadata": {},
   "outputs": [],
   "source": [
    "def textoAnumeros(texto):\n",
    "    texto_min = texto.upper()\n",
    "    lista =[]\n",
    "    for letra in texto_min:\n",
    "        lista.append(string.ascii_uppercase.index(letra)+1)\n",
    "    return lista"
   ]
  },
  {
   "cell_type": "markdown",
   "metadata": {},
   "source": [
    "DEFINIMOS la funcion que traduce de **numeros** a **texto**"
   ]
  },
  {
   "cell_type": "code",
   "execution_count": 276,
   "metadata": {},
   "outputs": [],
   "source": [
    "def numerosAtexto(numeros):\n",
    "    textoFinal= \"\"\n",
    "    for num in numeros:\n",
    "        textoFinal= textoFinal + string.ascii_uppercase[num-1]\n",
    "    return textoFinal"
   ]
  },
  {
   "cell_type": "markdown",
   "metadata": {},
   "source": [
    "DEFINIMOS la funcion que **mueve** los **jokers** por la baraja\n",
    "\n",
    "Recibe como argumentos de entrada:\n",
    "    * Joker a mover (A=53 o B=54)    \n",
    "    * Baraja de cartas\n",
    " Devuelve:\n",
    "    * Baraja con el joker reposicionado"
   ]
  },
  {
   "cell_type": "code",
   "execution_count": 277,
   "metadata": {},
   "outputs": [],
   "source": [
    "def moverJokers(joker, baraja):\n",
    "    \n",
    "    # Vemos el numero de movimientos en la baraja, en base al joker que sea\n",
    "    if (joker==53): \n",
    "        posMover = 1\n",
    "    else:\n",
    "        posMover = 2\n",
    "        \n",
    "    # Buscamos su posicion actual en la baraja\n",
    "    indice = baraja.index(joker)\n",
    "    \n",
    "    #Si esta al final de la baraja, es como si estuviese al principio\n",
    "    if (indice == len(baraja)-1): \n",
    "        nuevoIndice = posMover\n",
    "    # Si se trata del joker B y esta en la anteultima posicion\n",
    "    elif ( (indice == len(baraja)-2) and (joker == 54) ): \n",
    "        nuevoIndice = 1\n",
    "    #resto de casos se calculan con normalidad, su posicion mas el numero de elementos que corresponda\n",
    "    else: \n",
    "        nuevoIndice = indice + posMover\n",
    "    \n",
    "    baraja.insert(nuevoIndice, baraja.pop(indice))\n",
    "    \n",
    "    return baraja"
   ]
  },
  {
   "cell_type": "markdown",
   "metadata": {},
   "source": [
    "DEFINIMOS la función que hace el triple corte en la baraja\n",
    "\n",
    "Recibe como argumento de ENTRADA:\n",
    "    * la baraja\n",
    "como SALIDA devuelve:\n",
    "    * la misma baraja pero tras realizarle el llamado triple corte"
   ]
  },
  {
   "cell_type": "code",
   "execution_count": 278,
   "metadata": {},
   "outputs": [],
   "source": [
    "def tripleCorte(baraja):\n",
    "    nuevaBaraja=[]\n",
    "    posJokerA = baraja.index(53)\n",
    "    posJokerB = baraja.index(54)\n",
    "    \n",
    "    #Miramos cual esta en primera posicion\n",
    "    if ( posJokerA < posJokerB ):\n",
    "        primerCorte = posJokerA\n",
    "        segundoCorte = posJokerB\n",
    "    else:\n",
    "        primerCorte = posJokerB\n",
    "        segundoCorte = posJokerA\n",
    "    \n",
    "    primeraParte = baraja[0:primerCorte]\n",
    "    segundaParte = baraja[primerCorte:segundoCorte+1]\n",
    "    terceraParte = baraja[segundoCorte+1:]\n",
    "    \n",
    "    # Generamos la nueva baraja, con el primer y tercer corte intercambiados\n",
    "    nuevaBaraja.extend(terceraParte)\n",
    "    nuevaBaraja.extend(segundaParte)\n",
    "    nuevaBaraja.extend(primeraParte)\n",
    "    \n",
    "    return nuevaBaraja\n"
   ]
  },
  {
   "cell_type": "markdown",
   "metadata": {},
   "source": [
    "DEFINIMOS la función que realiza el corte de conteo\n",
    "\n",
    "Recibe como argumento de ENTRADA:\n",
    "    * la baraja\n",
    "como SALIDA devuelve\n",
    "    * la baraja tras realizarle el corte de conteo"
   ]
  },
  {
   "cell_type": "code",
   "execution_count": 279,
   "metadata": {},
   "outputs": [],
   "source": [
    "def corteDeConteo(baraja):\n",
    "    nuevaBaraja=[]\n",
    "    ultimoValor = baraja[len(baraja) -1]\n",
    "    \n",
    "    #Si la ultima carta no es ninguno de los 2 jokers\n",
    "    if (ultimoValor!=53 and ultimoValor!= 54):\n",
    "        primeraParte =baraja[:ultimoValor]\n",
    "        segundaParte =baraja[ultimoValor:len(baraja) -1]\n",
    "\n",
    "        nuevaBaraja.extend(segundaParte)\n",
    "        nuevaBaraja.extend(primeraParte)\n",
    "        nuevaBaraja.append(ultimoValor)\n",
    "    # Si la ultima carta es alguno de los 2 jokers, devolvemos la baraja tal cual\n",
    "    else:\n",
    "        nuevaBaraja = baraja\n",
    "        \n",
    "    return nuevaBaraja\n"
   ]
  },
  {
   "cell_type": "markdown",
   "metadata": {},
   "source": [
    "DEFINIMOS la funcion que calcula para cada posicion cual es el keystream que le corresponde"
   ]
  },
  {
   "cell_type": "code",
   "execution_count": 280,
   "metadata": {},
   "outputs": [],
   "source": [
    "def keystream(baraja):\n",
    "    valorPrimeraCarta = baraja[0]\n",
    "    if (valorPrimeraCarta==53 or valorPrimeraCarta==54):\n",
    "        valor = baraja[len(baraja)-1]\n",
    "    else:\n",
    "        valor = baraja[valorPrimeraCarta]\n",
    "    \n",
    "    \n",
    "    return valor\n",
    "\n",
    "#baraja=[54, 4, 5, 6, 53, 54, 2]\n",
    "#valor = keystream(baraja)\n",
    "#print(valor)"
   ]
  },
  {
   "cell_type": "markdown",
   "metadata": {},
   "source": [
    "DEFINIMOS la funcion que llama a todas las anteriores y devuelve el keystream completo, para el texto que se le pasa"
   ]
  },
  {
   "cell_type": "code",
   "execution_count": 281,
   "metadata": {},
   "outputs": [],
   "source": [
    "def generarKeystream(texto, baraja):\n",
    "    keystreamCompleto =[]\n",
    "    while (len(keystreamCompleto) < len(texto)):\n",
    "        baraja = moverJokers(53, baraja)\n",
    "        baraja = moverJokers(54, baraja)\n",
    "        baraja = tripleCorte(baraja)\n",
    "        baraja = corteDeConteo(baraja)\n",
    "        valor = keystream(baraja)\n",
    "        if (valor != ''):\n",
    "            keystreamCompleto.append(valor)\n",
    "    \n",
    "    return keystreamCompleto\n"
   ]
  },
  {
   "cell_type": "markdown",
   "metadata": {},
   "source": [
    "DEFINIMOS la funcion que sumara el texto original en numero, con el keystream generado para obtener el texto cifradado en numeros"
   ]
  },
  {
   "cell_type": "code",
   "execution_count": 282,
   "metadata": {},
   "outputs": [],
   "source": [
    "def sumarParaEncriptar(textoEntNumerico, textoKeystream):\n",
    "    textoCrifradoNumerico=[]\n",
    "    for i in range(len(textoEntNumerico)):\n",
    "        valorSumado = textoEntNumerico[i] + textoKeystream[i]\n",
    "        if valorSumado > 52:\n",
    "            valorFinal = valorSumado - 52\n",
    "        elif valorSumado > 26:\n",
    "            valorFinal = valorSumado - 26\n",
    "        else:\n",
    "            valorFinal = valorSumado\n",
    "        \n",
    "        textoCrifradoNumerico.append(valorFinal)\n",
    "        \n",
    "    return textoCrifradoNumerico"
   ]
  },
  {
   "cell_type": "markdown",
   "metadata": {},
   "source": [
    "DEFINIMOS la funcion que restara el texto cifrado en numero, el keystream generado para obtener el texto descifradado en numeros"
   ]
  },
  {
   "cell_type": "code",
   "execution_count": 283,
   "metadata": {},
   "outputs": [],
   "source": [
    "def restarParaDesencriptar(textoSalNumerico, textoSalKeystream):\n",
    "    textoS_CifradoNumerico = []\n",
    "    for i in range(len(textoSalNumerico)):\n",
    "        valorRestado = textoSalNumerico[i] - textoSalKeystream[i] \n",
    "        if valorRestado < -26:\n",
    "            valorFinal = (valorRestado + 52)\n",
    "        elif valorRestado < 0:\n",
    "            valorFinal = (valorRestado + 26)\n",
    "        else:\n",
    "            valorFinal = valorRestado\n",
    "        \n",
    "        textoS_CifradoNumerico.append(valorFinal)\n",
    "        \n",
    "    return textoS_CifradoNumerico"
   ]
  },
  {
   "cell_type": "markdown",
   "metadata": {},
   "source": [
    "DEFINIMOS la fucnion que valida que el texto de entrada no contiene numeros"
   ]
  },
  {
   "cell_type": "code",
   "execution_count": 284,
   "metadata": {},
   "outputs": [],
   "source": [
    "def validarTexto(textoEntrada):\n",
    "    for letra in textoEntrada:\n",
    "        if letra.isdigit():\n",
    "            return False\n",
    "            break\n",
    "    return True"
   ]
  },
  {
   "cell_type": "markdown",
   "metadata": {},
   "source": [
    "DEFINIMOS el algoritmo completo, al que debemos llamar para ejecutar el cifrado y descifrado de un numero con el solitario"
   ]
  },
  {
   "cell_type": "code",
   "execution_count": 285,
   "metadata": {},
   "outputs": [],
   "source": [
    "def algoritmoCompleto(textoEntrada):\n",
    "    \n",
    "    # Quitamos los posibles espacios en balnco\n",
    "    textoEntrada= textoEntrada.replace(\" \", \"\")\n",
    "\n",
    "    # 1º Creamos un array de valores aleatorios que representarán la baraja de cartas\n",
    "    barajaOriginal = []\n",
    "    for i in range(1,55):\n",
    "        barajaOriginal.insert(i, i)\n",
    "    # la barajamos y creamos una copia, que es la que se enviará al descifrado\n",
    "    random.shuffle(barajaOriginal)\n",
    "    baraja2 = barajaOriginal.copy()\n",
    "\n",
    "    # 2º Creamos el alfabeto con el que traduciremos el texto a numero y viceversa\n",
    "    alfabeto = list(string.ascii_uppercase)\n",
    "\n",
    "    # 3º Ciframos el mensaje\n",
    "    # Cambiamos el texto de letras a posiciones en el alfabeto\n",
    "    textoEntNumerico = textoAnumeros(textoEntrada)\n",
    "    textoKeystream= generarKeystream(textoEntrada, barajaOriginal)\n",
    "    numerosCifrados = sumarParaEncriptar(textoEntNumerico, textoKeystream)\n",
    "    textoEntCifrado = numerosAtexto(numerosCifrados)\n",
    "\n",
    "    # 4º => Desciframos el mensaje\n",
    "    # ahora enviamos el mensaje cifrado y lo desciframos\n",
    "    textoSalNumerico = textoAnumeros(textoEntCifrado)\n",
    "    textoSalKeystream= generarKeystream(textoSalNumerico, baraja2)\n",
    "    numerosSalCifrados = restarParaDesencriptar(textoSalNumerico, textoSalKeystream)\n",
    "    textoSalCifrado = numerosAtexto(numerosSalCifrados)\n",
    "\n",
    "    \"\"\"\n",
    "    # Pintamos todos los datos para poder comprobar los pasos\n",
    "    print(\"DATOS PARA ENCRIPTAR\")\n",
    "    print(barajaOriginal)\n",
    "    print('textoEntrada = ' + textoEntrada)\n",
    "    print('textoEntNumerico = ')\n",
    "    print(textoEntNumerico)\n",
    "    print('textoKeystream = ')\n",
    "    print(textoKeystream)\n",
    "    print('numerosCifrados = ')\n",
    "    print(numerosCifrados)\n",
    "    print('textoEntCifrado = ')\n",
    "    print(textoEntCifrado)\n",
    "    print('\\n')\n",
    "    print(\"DATOS PARA DESENCRIPTAR\")\n",
    "    print(baraja2)\n",
    "    print('textoSalNumerico = ')\n",
    "    print(textoSalNumerico)\n",
    "    print('textoSalKeystream = ')\n",
    "    print(textoSalKeystream)\n",
    "    print('numerosSalCifrados = ')\n",
    "    print(numerosSalCifrados)\n",
    "    print('textoSalCifrado = ')\n",
    "    print(textoSalCifrado)\n",
    "    \"\"\"\n",
    "    return textoEntCifrado, textoSalCifrado\n"
   ]
  },
  {
   "cell_type": "markdown",
   "metadata": {},
   "source": [
    "DESDE aqui es donde puedes introducir tu texto para llamar a la fucnion de **encriptado** y **desencriptado** con **el solitario**\n",
    "\n",
    "__NOTAS__\n",
    "    * Si introduces algun numero en el texto, no te dejaré probar la funcion\n",
    "    * si tu texto tiene algun caracter en blanco, lo eliminare y considerare tu como texto de entrada tu texto sin espacios"
   ]
  },
  {
   "cell_type": "code",
   "execution_count": 286,
   "metadata": {},
   "outputs": [
    {
     "name": "stdout",
     "output_type": "stream",
     "text": [
      "El texto de entrada es VALIDADO\n",
      "El texto cifrado es XCLSGNLC\n",
      "El texto descifrado es VALIDADO\n"
     ]
    }
   ],
   "source": [
    "textoEntrada = \"VALIDADO\"\n",
    "if validarTexto(textoEntrada):\n",
    "    textoCifrado, textDescrifrado = algoritmoCompleto(textoEntrada)\n",
    "    print(\"El texto de entrada es \" + textoEntrada)\n",
    "    print(\"El texto cifrado es \" + textoCifrado)\n",
    "    print(\"El texto descifrado es \" + textDescrifrado)\n",
    "else:\n",
    "    print(\"Tu texto contine números, no lo podemos cifrar con esta función\")"
   ]
  }
 ],
 "metadata": {
  "kernelspec": {
   "display_name": "Python 3",
   "language": "python",
   "name": "python3"
  },
  "language_info": {
   "codemirror_mode": {
    "name": "ipython",
    "version": 3
   },
   "file_extension": ".py",
   "mimetype": "text/x-python",
   "name": "python",
   "nbconvert_exporter": "python",
   "pygments_lexer": "ipython3",
   "version": "3.7.6"
  }
 },
 "nbformat": 4,
 "nbformat_minor": 4
}
