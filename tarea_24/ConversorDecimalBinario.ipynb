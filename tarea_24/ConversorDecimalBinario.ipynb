{
 "cells": [
  {
   "cell_type": "markdown",
   "metadata": {},
   "source": [
    "DEFINIMOS la funcion encargada de hacer la conversión, en este caso:\n",
    "* de DECIMAL\n",
    "* a BINARIO"
   ]
  },
  {
   "cell_type": "code",
   "execution_count": 30,
   "metadata": {},
   "outputs": [],
   "source": [
    "def conversorDigital(numero):\n",
    "    # 1º Cogemos la parte entera del numero a convertir\n",
    "    numeroTemp= int(numero)\n",
    "    \n",
    "    # 2º Vamos inicializando las variables que utilizaremos en la funcion\n",
    "    rdoFinal=[]\n",
    "    listaRdo= []\n",
    "    divisor = 2\n",
    "    \n",
    "    # 3º, si nos han pasado un numero menor que 1, el resultado es cero, si no, empezamos la conversion\n",
    "    if numeroTemp == 0:\n",
    "        rdoFinal.append(0)\n",
    "    elif numeroTemp == 1:\n",
    "        rdoFinal.append(1)\n",
    "    else:\n",
    "        while numeroTemp>1:\n",
    "            # 1º obtenemos la parte entera del resultado de la división\n",
    "            rdoDivision = numeroTemp//divisor\n",
    "            # 2º Obtenermos el resto de la division y lo vamos añadiendo al array de resultados\n",
    "            resto = int(numeroTemp) % divisor\n",
    "            listaRdo.append(resto)\n",
    "            # 3º Ahora el numero a dividir entre 2, es el resultado de la division hecha\n",
    "            numeroTemp = rdoDivision\n",
    "        # Añadimos el ultimo resultado a la lista    \n",
    "        listaRdo.append(rdoDivision)\n",
    "        #print(listaRdo)\n",
    "        # Finalmente invertimos la lista, y este será el resultado de la conversion a binario\n",
    "        rdoFinal=list(reversed(listaRdo))\n",
    "        #print(rdoFinal)\n",
    "\n",
    "    return rdoFinal\n"
   ]
  },
  {
   "cell_type": "markdown",
   "metadata": {},
   "source": [
    "Aqui debes indicar el **número** que quieres **convertir**, para probar este algoritmo"
   ]
  },
  {
   "cell_type": "code",
   "execution_count": 31,
   "metadata": {},
   "outputs": [
    {
     "name": "stdout",
     "output_type": "stream",
     "text": [
      "El resultado de convertir 5983631587.85936 es:\n",
      "[1, 0, 1, 1, 0, 0, 1, 0, 0, 1, 0, 1, 0, 0, 1, 1, 0, 1, 1, 1, 1, 1, 0, 0, 0, 1, 1, 1, 0, 0, 0, 1, 1]\n"
     ]
    }
   ],
   "source": [
    "# Introduce el numero cuyo valor quieras convertir en digital\n",
    "#numero = 0.965\n",
    "#numero = 1\n",
    "numero = 5983631587.85936\n",
    "\n",
    "# Coprobamos que se ha indicado un numero, de no ser asi no te dejará continuar\n",
    "if (type(numero) != str):\n",
    "    resultado = conversorDigital(numero)\n",
    "    print(\"El resultado de convertir \" + str(numero) + \" es:\")\n",
    "    print(str(resultado))\n",
    "else:\n",
    "    print(\"Recuerda que debes indicar número con el formato correcto, para probar el conversor\")\n"
   ]
  }
 ],
 "metadata": {
  "kernelspec": {
   "display_name": "Python 3",
   "language": "python",
   "name": "python3"
  },
  "language_info": {
   "codemirror_mode": {
    "name": "ipython",
    "version": 3
   },
   "file_extension": ".py",
   "mimetype": "text/x-python",
   "name": "python",
   "nbconvert_exporter": "python",
   "pygments_lexer": "ipython3",
   "version": "3.7.6"
  }
 },
 "nbformat": 4,
 "nbformat_minor": 4
}
